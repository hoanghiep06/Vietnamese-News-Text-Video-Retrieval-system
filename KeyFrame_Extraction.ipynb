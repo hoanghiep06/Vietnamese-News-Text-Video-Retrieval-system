{
  "nbformat": 4,
  "nbformat_minor": 0,
  "metadata": {
    "colab": {
      "provenance": []
    },
    "kernelspec": {
      "name": "python3",
      "display_name": "Python 3"
    },
    "language_info": {
      "name": "python"
    }
  },
  "cells": [
    {
      "cell_type": "code",
      "execution_count": null,
      "metadata": {
        "id": "30RRIx-yktPr"
      },
      "outputs": [],
      "source": [
        "import cv2\n",
        "import os"
      ]
    },
    {
      "cell_type": "code",
      "source": [
        "def get_keyframe_from_video(vidPath, output_dir, vidname, skip_seconds=0, second_stop=None, THRESHOLD=20):\n",
        "  if not os.path.exists(output_dir):\n",
        "    os.makedirs(output_dir)\n",
        "\n",
        "  cap = cv2.VideoCapture(vidPath)\n",
        "  fps = cap.get(cv2.CAP_PROP_FPS)\n",
        "  skip_frames = int(fps * skip_seconds)\n",
        "\n",
        "  cap.set(cv2.CAP_PROP_POS_FRAMES, skip_frames)\n",
        "\n",
        "  ret, prev_frame = cap.read()\n",
        "  if not ret:\n",
        "        cap.release()\n",
        "        return\n",
        "\n",
        "  prev_gray = cv2.cvtColor(prev_frame, cv2.COLOR_BGR2GRAY)\n",
        "\n",
        "  while True:\n",
        "    ret, frame = cap.read()\n",
        "    if not ret:\n",
        "      break\n",
        "\n",
        "    gray_frame = cv2.cvtColor(frame, cv2.COLOR_BGR2GRAY)\n",
        "    diff = cv2.absdiff(prev_gray, gray_frame)\n",
        "\n",
        "    score = diff.sum() / diff.size\n",
        "\n",
        "    timestamp_ms = int(cap.get(cv2.CAP_PROP_POS_MSEC))\n",
        "    timestamp_sec = timestamp_ms // 1000\n",
        "\n",
        "    if second_stop is not None and timestamp_sec >= second_stop:\n",
        "      break\n",
        "\n",
        "    if score > THRESHOLD:\n",
        "\n",
        "      mins = timestamp_sec // 60\n",
        "      secs = timestamp_sec % 60\n",
        "\n",
        "      filename = f\"{vidname}_{mins:02d}m{secs:02d}s.jpg\"\n",
        "      cv2.imwrite(os.path.join(output_dir, filename), frame)\n",
        "\n",
        "    prev_gray = gray_frame\n",
        "\n",
        "  cap.release()\n",
        "  return"
      ],
      "metadata": {
        "id": "Qdeujd1-k8LC"
      },
      "execution_count": null,
      "outputs": []
    },
    {
      "cell_type": "code",
      "source": [
        "input_dir = \"/content/drive/MyDrive/Dataset\"\n",
        "output_dir = \"/content/drive/MyDrive/DatasetKeyFrame\"\n",
        "THRESHOLD = 20\n",
        "SKIP_SECONDS = 20\n",
        "\n",
        "video_lst = os.listdir(input_dir)\n",
        "\n",
        "\"\"\"\n",
        "_________________________________________________________________\n",
        "\"\"\"\n",
        "\n",
        "vidname = video_lst[0]\n",
        "vidname_no_ext = os.path.splitext(vidname)[0]\n",
        "\n",
        "parts = vidname_no_ext.split(\"_\")\n",
        "if len(parts) >= 2:\n",
        "  group_folder = parts[1]\n",
        "else:\n",
        "  group_folder = \"Others\"\n",
        "\n",
        "group_path = os.path.join(output_dir, group_folder)\n",
        "if not os.path.exists(group_path):\n",
        "  os.makedirs(group_path)\n",
        "\n",
        "vidPath = os.path.join(input_dir, vidname)\n",
        "get_keyframe_from_video(vidPath, group_path, vidname_no_ext, 0, SKIP_SECONDS, THRESHOLD)\n",
        "\n",
        "\"\"\"\n",
        "_________________________________________________________________\n",
        "\"\"\"\n",
        "\n",
        "for vidname in video_lst:\n",
        "  vidPath = os.path.join(input_dir, vidname)\n",
        "\n",
        "  vidname_no_ext = os.path.splitext(vidname)[0]\n",
        "\n",
        "  parts = vidname_no_ext.split(\"_\")\n",
        "  if len(parts) >= 2:\n",
        "    group_folder = parts[1]\n",
        "  else:\n",
        "    group_folder = \"Others\"\n",
        "\n",
        "  group_path = os.path.join(output_dir, group_folder)\n",
        "  if not os.path.exists(group_path):\n",
        "    os.makedirs(group_path)\n",
        "\n",
        "\n",
        "  print(f\"Đang xử lý {vidname_no_ext}\")\n",
        "  get_keyframe_from_video(vidPath, group_path, vidname_no_ext, SKIP_SECONDS, None, THRESHOLD)\n",
        "\n",
        "print(\"Đã xử lý xong\")"
      ],
      "metadata": {
        "colab": {
          "base_uri": "https://localhost:8080/"
        },
        "id": "OKbCia1gmfRD",
        "outputId": "70e15855-ad04-4fb8-fa27-58a3c5d0adfa"
      },
      "execution_count": null,
      "outputs": [
        {
          "output_type": "stream",
          "name": "stdout",
          "text": [
            "Đang xử lý L27_V004\n",
            "Đang xử lý L27_V002\n",
            "Đang xử lý L27_V005\n",
            "Đang xử lý L27_V006\n",
            "Đang xử lý L27_V001\n",
            "Đang xử lý L27_V009\n",
            "Đang xử lý L27_V003\n",
            "Đang xử lý L27_V008\n",
            "Đang xử lý L27_V010\n",
            "Đang xử lý L27_V007\n",
            "Đang xử lý L27_V013\n",
            "Đang xử lý L27_V015\n",
            "Đang xử lý L27_V016\n",
            "Đang xử lý L27_V012\n",
            "Đang xử lý L27_V011\n",
            "Đang xử lý L27_V014\n"
          ]
        }
      ]
    }
  ]
}